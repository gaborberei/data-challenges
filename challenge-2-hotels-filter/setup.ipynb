{
 "cells": [
  {
   "cell_type": "markdown",
   "metadata": {},
   "source": [
    "# Description"
   ]
  },
  {
   "cell_type": "markdown",
   "metadata": {},
   "source": [
    "evaluation based on:\n",
    "- scaling with size of input\n",
    "- scaling with data size\n",
    "- scaling with number of runs\n",
    "\n",
    "- no two hotels in the same place\n",
    "- the fact that the coordinates reach around earth does not matter"
   ]
  },
  {
   "cell_type": "markdown",
   "metadata": {},
   "source": [
    "## get dev data"
   ]
  },
  {
   "cell_type": "code",
   "execution_count": 1,
   "metadata": {},
   "outputs": [],
   "source": [
    "import os\n",
    "import sys\n",
    "import shutil\n",
    "import pandas as pd\n",
    "import numpy as np\n",
    "%matplotlib inline"
   ]
  },
  {
   "cell_type": "code",
   "execution_count": 2,
   "metadata": {},
   "outputs": [],
   "source": [
    "sys.path.append(\"..\")\n",
    "from test_framework import comparison_test"
   ]
  },
  {
   "cell_type": "code",
   "execution_count": 3,
   "metadata": {},
   "outputs": [],
   "source": [
    "datadir = '../data_sources/hotels_data'\n",
    "if not os.path.exists(datadir):\n",
    "    os.makedirs(datadir)\n"
   ]
  },
  {
   "cell_type": "markdown",
   "metadata": {},
   "source": [
    "put as much as you need of this to datadir\n",
    "\n",
    "https://www.dropbox.com/sh/2ebfiuzau02ns6y/AABNPprCbIiqoS2tcVFUfm14a?dl=0"
   ]
  },
  {
   "cell_type": "markdown",
   "metadata": {},
   "source": [
    "## evaluate solutions on dev data"
   ]
  },
  {
   "cell_type": "markdown",
   "metadata": {},
   "source": [
    "#### create testinputs"
   ]
  },
  {
   "cell_type": "code",
   "execution_count": 4,
   "metadata": {},
   "outputs": [],
   "source": [
    "AGGED = pd.read_csv(datadir + '/agg.csv',index_col='index')"
   ]
  },
  {
   "cell_type": "code",
   "execution_count": 5,
   "metadata": {},
   "outputs": [],
   "source": [
    "def generate_input(input_size):\n",
    "    input_list = []\n",
    "    for _ in range(input_size):\n",
    "        input_dic = {c:np.random.uniform(AGGED.loc['min',c],AGGED.loc['max',c]) for c in AGGED.columns}\n",
    "        input_dic['stars'] = np.linspace(0,5,11)[np.random.randint(11)]\n",
    "        prices = np.sort( np.random.exponential(70,size=2))\n",
    "        input_dic['min_price'] = prices[0]\n",
    "        input_dic['max_price'] = prices[1]\n",
    "        input_list.append(input_dic.copy())\n",
    "    return input_list"
   ]
  },
  {
   "cell_type": "code",
   "execution_count": 6,
   "metadata": {},
   "outputs": [],
   "source": [
    "envdir = 'env_dir'\n",
    "stagedir = 'staging'"
   ]
  },
  {
   "cell_type": "code",
   "execution_count": 7,
   "metadata": {},
   "outputs": [],
   "source": [
    "MINI_DATA = [3e3,6e3,12e3]\n",
    "SMALL_DATA = [3e4,6e4,30e4,60e4]\n",
    "BIG_DATA = [3e6,6e6,12e6,24e6,36e6,48e6,60e6]\n",
    "\n",
    "use_datasets = SMALL_DATA\n",
    "data_dicts = {int(data_size):{'datafile':datadir + '/hotels-%d.csv' % data_size,\n",
    "'staging_folder':stagedir} for data_size in use_datasets}\n",
    "\n",
    "\n",
    "input_sizes = [1,10,100]#,200,1000]\n",
    "reps = 5\n",
    "\n",
    "input_set = {}\n",
    "for data_name in data_dicts.keys():\n",
    "    input_set[data_name] = {}\n",
    "    for input_size in input_sizes:\n",
    "        input_set[data_name][input_size] = [generate_input(input_size) \n",
    "                                            for _ in range(reps)]"
   ]
  },
  {
   "cell_type": "code",
   "execution_count": null,
   "metadata": {
    "scrolled": false
   },
   "outputs": [
    {
     "data": {
      "application/vnd.jupyter.widget-view+json": {
       "model_id": "b1077bcdfda24a8abd32e5415fa66f71",
       "version_major": 2,
       "version_minor": 0
      },
      "text/plain": [
       "HBox(children=(IntProgress(value=0, max=2), HTML(value='')))"
      ]
     },
     "metadata": {},
     "output_type": "display_data"
    },
    {
     "name": "stdout",
     "output_type": "stream",
     "text": [
      "base_solution\n"
     ]
    },
    {
     "data": {
      "application/vnd.jupyter.widget-view+json": {
       "model_id": "13eff68fa01d4348979e037bfe41e0d4",
       "version_major": 2,
       "version_minor": 0
      },
      "text/plain": [
       "HBox(children=(IntProgress(value=0, max=4), HTML(value='')))"
      ]
     },
     "metadata": {},
     "output_type": "display_data"
    },
    {
     "name": "stdout",
     "output_type": "stream",
     "text": [
      "Starting ETL process\n",
      "ETL process started\n",
      "ETL process done\n",
      "Starting cleanup process\n",
      "cleanup process started\n",
      "cleanup process done\n",
      "ETL killed\n",
      "Starting ETL process\n",
      "ETL process started\n",
      "ETL process done\n",
      "Starting cleanup process\n",
      "cleanup process started\n",
      "cleanup process done\n",
      "ETL killed\n",
      "Starting ETL process\n",
      "ETL process started\n",
      "ETL process done\n",
      "Starting cleanup process\n",
      "cleanup process started\n",
      "cleanup process done\n",
      "ETL killed\n",
      "Starting ETL process\n",
      "ETL process started\n",
      "ETL process done\n",
      "Starting cleanup process\n",
      "cleanup process started\n",
      "cleanup process done\n",
      "ETL killed\n",
      "maybe_better_solution\n"
     ]
    },
    {
     "data": {
      "application/vnd.jupyter.widget-view+json": {
       "model_id": "97ee7cb1aa8949578e31519b1a5f7f01",
       "version_major": 2,
       "version_minor": 0
      },
      "text/plain": [
       "HBox(children=(IntProgress(value=0, max=4), HTML(value='')))"
      ]
     },
     "metadata": {},
     "output_type": "display_data"
    },
    {
     "name": "stdout",
     "output_type": "stream",
     "text": [
      "Starting ETL process\n",
      "ETL process started\n",
      "ETL process done\n"
     ]
    }
   ],
   "source": [
    "WINDOWS = False #if false it assumes unix\n",
    "timedata,out_dfs = comparison_test(data_dicts,input_set,\n",
    "                                   envdir,stagedir,\n",
    "                                   is_windows=WINDOWS,\n",
    "                                  verbose=True)"
   ]
  },
  {
   "cell_type": "code",
   "execution_count": 17,
   "metadata": {
    "scrolled": false
   },
   "outputs": [
    {
     "name": "stdout",
     "output_type": "stream",
     "text": [
      "----------\n",
      "base_solution:\n",
      " lat    476    57.9032\n",
      "       46    -2.89591\n",
      "       46    -6.76436\n",
      "       59     44.4889\n",
      "       141   -7.49976\n",
      "       161     7.0705\n",
      "       308    29.3619\n",
      "       324   -6.76436\n",
      "       487   -26.2024\n",
      "       17     36.0897\n",
      "       55     4.77304\n",
      "       103    4.77304\n",
      "       109    4.77304\n",
      "       195    4.77304\n",
      "       262    6.01901\n",
      "       328    31.6171\n",
      "       359    -3.7326\n",
      "       396    4.77304\n",
      "       490    36.0897\n",
      "lon    2      90.3304\n",
      "       116   -2.24667\n",
      "       126   -1.76081\n",
      "       476   -5.16431\n",
      "       394    -4.7108\n",
      "       482   -7.99229\n",
      "       20      18.604\n",
      "       90      2.6534\n",
      "       342    127.153\n",
      "price  52     220.393\n",
      "       64     207.249\n",
      "       274    28.0167\n",
      "       439    220.393\n",
      "       25     18.2735\n",
      "       201    204.019\n",
      "       20     43.7986\n",
      "dtype: object\n",
      "----------\n",
      "little_better_solution:\n",
      " lat    476    57.9032\n",
      "       46    -2.89591\n",
      "       46    -6.76436\n",
      "       59     44.4889\n",
      "       141   -7.49976\n",
      "       161     7.0705\n",
      "       308    29.3619\n",
      "       324   -6.76436\n",
      "       487   -26.2024\n",
      "       17     36.0897\n",
      "       55     4.77304\n",
      "       103    4.77304\n",
      "       109    4.77304\n",
      "       195    4.77304\n",
      "       262    6.01901\n",
      "       328    31.6171\n",
      "       359    -3.7326\n",
      "       396    4.77304\n",
      "       490    36.0897\n",
      "lon    2      90.3304\n",
      "       116   -2.24667\n",
      "       126   -1.76081\n",
      "       476   -5.16431\n",
      "       394    -4.7108\n",
      "       482   -7.99229\n",
      "       20      18.604\n",
      "       90      2.6534\n",
      "       342    127.153\n",
      "price  52     220.393\n",
      "       64     207.249\n",
      "       274    28.0167\n",
      "       439    220.393\n",
      "       25     18.2735\n",
      "       201    204.019\n",
      "       20     43.7986\n",
      "dtype: object\n"
     ]
    },
    {
     "data": {
      "text/html": [
       "<div>\n",
       "<style scoped>\n",
       "    .dataframe tbody tr th:only-of-type {\n",
       "        vertical-align: middle;\n",
       "    }\n",
       "\n",
       "    .dataframe tbody tr th {\n",
       "        vertical-align: top;\n",
       "    }\n",
       "\n",
       "    .dataframe thead th {\n",
       "        text-align: right;\n",
       "    }\n",
       "</style>\n",
       "<table border=\"1\" class=\"dataframe\">\n",
       "  <thead>\n",
       "    <tr style=\"text-align: right;\">\n",
       "      <th></th>\n",
       "      <th>similarity</th>\n",
       "      <th>solution1</th>\n",
       "      <th>solution2</th>\n",
       "    </tr>\n",
       "  </thead>\n",
       "  <tbody>\n",
       "    <tr>\n",
       "      <th>0</th>\n",
       "      <td>0.786186</td>\n",
       "      <td>base_solution</td>\n",
       "      <td>little_better_solution</td>\n",
       "    </tr>\n",
       "  </tbody>\n",
       "</table>\n",
       "</div>"
      ],
      "text/plain": [
       "   similarity      solution1               solution2\n",
       "0    0.786186  base_solution  little_better_solution"
      ]
     },
     "execution_count": 17,
     "metadata": {},
     "output_type": "execute_result"
    }
   ],
   "source": [
    "similarity = []\n",
    "\n",
    "for id1,solution1 in enumerate(list(out_dfs.keys())[:-1]):\n",
    "    _df1 = out_dfs[solution1]\n",
    "    solution2 = list(out_dfs.keys())[id1+1]\n",
    "    _df2 = out_dfs[solution2]\n",
    "    print('----------\\n%s:\\n' % solution1,_df1[_df1 != _df2].unstack().dropna())\n",
    "    print('----------\\n%s:\\n' % solution2,_df2[_df1 != _df2].unstack().dropna())\n",
    "    similarity.append({\n",
    "        'solution1':solution1,\n",
    "        'solution2':solution2,\n",
    "        'similarity':(_df1 == _df2).mean().mean()\n",
    "    })\n",
    "pd.DataFrame(similarity).sort_values('similarity')"
   ]
  },
  {
   "cell_type": "code",
   "execution_count": 18,
   "metadata": {},
   "outputs": [],
   "source": [
    "timedf = pd.DataFrame(timedata).pivot_table(columns='solution',values='calc_time',\n",
    "                                   index=['data_id','input_id'],aggfunc='median').reset_index()"
   ]
  },
  {
   "cell_type": "code",
   "execution_count": 19,
   "metadata": {
    "scrolled": false
   },
   "outputs": [
    {
     "data": {
      "image/png": "[encoded data removed]",
      "text/plain": [
       "<Figure size 720x720 with 1 Axes>"
      ]
     },
     "metadata": {
      "needs_background": "light"
     },
     "output_type": "display_data"
    },
    {
     "data": {
      "image/png": "[encoded data removed]",
      "text/plain": [
       "<Figure size 720x720 with 1 Axes>"
      ]
     },
     "metadata": {
      "needs_background": "light"
     },
     "output_type": "display_data"
    },
    {
     "data": {
      "image/png": "[encoded data removed]",
      "text/plain": [
       "<Figure size 720x720 with 1 Axes>"
      ]
     },
     "metadata": {
      "needs_background": "light"
     },
     "output_type": "display_data"
    },
    {
     "data": {
      "image/png": "[encoded data removed]",
      "text/plain": [
       "<Figure size 720x720 with 1 Axes>"
      ]
     },
     "metadata": {
      "needs_background": "light"
     },
     "output_type": "display_data"
    },
    {
     "data": {
      "image/png": "[encoded data removed]",
      "text/plain": [
       "<Figure size 720x720 with 1 Axes>"
      ]
     },
     "metadata": {
      "needs_background": "light"
     },
     "output_type": "display_data"
    },
    {
     "data": {
      "image/png": "[encoded data removed]",
      "text/plain": [
       "<Figure size 720x720 with 1 Axes>"
      ]
     },
     "metadata": {
      "needs_background": "light"
     },
     "output_type": "display_data"
    }
   ],
   "source": [
    "allgroups = ['data_id','input_id']\n",
    "for basegroup in allgroups:\n",
    "    remaingroup = [c for c in allgroups if c != basegroup]\n",
    "    for _gname,_gdf in timedf.groupby(basegroup):\n",
    "        _gdf.drop(basegroup,axis=1).groupby(remaingroup).median()\\\n",
    "        .plot(kind='bar',figsize=(10,10),title='%s - %s' % (str(basegroup),str(_gname)))"
   ]
  }
 ],
 "metadata": {
  "kernelspec": {
   "display_name": "Python 3",
   "language": "python",
   "name": "python3"
  },
  "language_info": {
   "codemirror_mode": {
    "name": "ipython",
    "version": 3
   },
   "file_extension": ".py",
   "mimetype": "text/x-python",
   "name": "python",
   "nbconvert_exporter": "python",
   "pygments_lexer": "ipython3",
   "version": "3.6.4"
  }
 },
 "nbformat": 4,
 "nbformat_minor": 2
}
